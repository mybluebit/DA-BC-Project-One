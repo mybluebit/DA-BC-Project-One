{
 "cells": [
  {
   "cell_type": "code",
   "execution_count": null,
   "metadata": {},
   "outputs": [],
   "source": [
    "%matplotlib notebook"
   ]
  },
  {
   "cell_type": "code",
   "execution_count": null,
   "metadata": {},
   "outputs": [],
   "source": [
    "# Import Dependencies\n",
    "import pandas as pd\n",
    "import matplotlib.pyplot as plt\n",
    "import numpy as np"
   ]
  },
  {
   "cell_type": "code",
   "execution_count": null,
   "metadata": {},
   "outputs": [],
   "source": [
    "wine_file = \"winemag-data-130k-v2.csv\"\n",
    "wine_file_df = pd.read_csv(wine_file)\n",
    "wine_file_df.dropna()\n",
    "wine_file_df.head()\n",
    "\n",
    "#wines = pd.DataFrame(wine_file)"
   ]
  },
  {
   "cell_type": "code",
   "execution_count": null,
   "metadata": {},
   "outputs": [],
   "source": [
    "wine_table = wine_file_df[[\"title\", \"points\", \"price\", \"country\", \"designation\",\n",
    "                            \"province\", \"taster_name\", \"variety\", \"winery\"]]\n",
    "wine_table.head()"
   ]
  },
  {
   "cell_type": "code",
   "execution_count": null,
   "metadata": {},
   "outputs": [],
   "source": [
    "wine_table.dropna()\n",
    "wine_table"
   ]
  },
  {
   "cell_type": "code",
   "execution_count": null,
   "metadata": {},
   "outputs": [],
   "source": [
    "wine_table = wine_table.rename(columns={\"title\": \"Wine Name\", \"points\": \"Rating\", \"price\": \"Price\", \"country\": \"Country\", \"designation\": \"Designation\", \"province\": \"Province\", \"taster_name\": \"Taster Name\", \"variety\": \"Variety\", \"winery\": \"Winery\"})\n",
    "wine_table.dropna()"
   ]
  },
  {
   "cell_type": "code",
   "execution_count": null,
   "metadata": {},
   "outputs": [],
   "source": [
    "wine_name = wine_table['Wine Name'].tolist()\n",
    "price = wine_table['Price'].tolist()\n",
    "\n",
    "plt.scatter(price, wine_name, color=\"b\", align=\"center\")"
   ]
  },
  {
   "cell_type": "code",
   "execution_count": null,
   "metadata": {},
   "outputs": [],
   "source": []
  }
 ],
 "metadata": {
  "kernelspec": {
   "display_name": "Python 3",
   "language": "python",
   "name": "python3"
  },
  "language_info": {
   "codemirror_mode": {
    "name": "ipython",
    "version": 3
   },
   "file_extension": ".py",
   "mimetype": "text/x-python",
   "name": "python",
   "nbconvert_exporter": "python",
   "pygments_lexer": "ipython3",
   "version": "3.7.4"
  }
 },
 "nbformat": 4,
 "nbformat_minor": 4
}
